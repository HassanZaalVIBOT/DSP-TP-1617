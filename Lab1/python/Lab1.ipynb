{
 "cells": [
  {
   "cell_type": "markdown",
   "metadata": {},
   "source": [
    "# Digital Signal Processing\n",
    "\n",
    "### MsCV - ViBOT - MAIA"
   ]
  },
  {
   "cell_type": "code",
   "execution_count": 2,
   "metadata": {
    "collapsed": false
   },
   "outputs": [
    {
     "name": "stdout",
     "output_type": "stream",
     "text": [
      "Pretty printing has been turned ON\n"
     ]
    }
   ],
   "source": [
    "%matplotlib inline\n",
    "%pprint off\n",
    "\n",
    "# To make some nice plot\n",
    "import matplotlib.pyplot as plt\n",
    "# To play with arrays\n",
    "import numpy as np"
   ]
  },
  {
   "cell_type": "markdown",
   "metadata": {},
   "source": [
    "## Exercise 1"
   ]
  },
  {
   "cell_type": "markdown",
   "metadata": {},
   "source": [
    "#### 1.1 Dirac function\n",
    "Considering the Dirac function corresponding to the equation below, write a <tt>dirac</tt> function to define a discrete signal of length $N$ and containing the Dirac function at the position $n$, as $\\delta(k-n)$. Verify inside the function that $n \\in [0,N-1]$ and raise an error if it is not the case.\n",
    "\n",
    "$\\delta(k) = \\left\\{\n",
    "    \\begin{array}{lll}\n",
    "        1 & \\mbox{if}  & k=0 \\\\\n",
    "        0 &  &\\mbox{elsewhere}\n",
    "    \\end{array} \\right .$\n",
    "    \n",
    "By default $n$ and $N$ should be equal to 0 and 20, respectively. Plot the signal for $n=10$ using the function <tt>stem</tt> and add labels and title."
   ]
  },
  {
   "cell_type": "code",
   "execution_count": 29,
   "metadata": {
    "collapsed": false
   },
   "outputs": [],
   "source": [
    "def dirac(n=0, N=20):\n",
    "    if (n<=20 and n>0):\n",
    "        s = np.zeros((N,))\n",
    "        s[n] = 1\n",
    "    else:\n",
    "        print 'error'\n",
    "             \n",
    "    \n",
    "    return s"
   ]
  },
  {
   "cell_type": "code",
   "execution_count": 30,
   "metadata": {
    "collapsed": false
   },
   "outputs": [
    {
     "data": {
      "text/plain": [
       "<matplotlib.text.Text at 0x7f9260ac9410>"
      ]
     },
     "execution_count": 30,
     "metadata": {},
     "output_type": "execute_result"
    },
    {
     "data": {
      "image/png": "[encoded data removed]",
      "text/plain": [
       "<matplotlib.figure.Figure at 0x7f9260ac9290>"
      ]
     },
     "metadata": {},
     "output_type": "display_data"
    }
   ],
   "source": [
    "plt.stem(dirac(10))\n",
    "plt.xlabel(r'$n$')\n",
    "plt.ylabel(r'$\\delta(k-n)$')\n",
    "plt.title('Dirac function')"
   ]
  },
  {
   "cell_type": "markdown",
   "metadata": {},
   "source": [
    "#### 1.2 Step function\n",
    "Considering the step function $H$ corresponding to the equation below, write a function <tt>step</tt> to define a discrete signal of length $N$ and containing the value of the step function shifted at the position $n$, as $H(k-n)$. Verify inside the function that $n \\in [0,N-1]$ and raise an error if it is not the case.\n",
    "\n",
    "$H(k) = \\left\\{\n",
    "    \\begin{array}{lll}\n",
    "        1 & \\mbox{if}  & k\\geq 0 \\\\\n",
    "        0 & & \\mbox{elsewhere}\n",
    "    \\end{array} \\right .$\n",
    "    \n",
    "By default $n$ and $N$ should be equal to 0 and 20, respectively. Plot the signal for $n=10$ using the function <tt>stem</tt> and add labels and title."
   ]
  },
  {
   "cell_type": "code",
   "execution_count": 46,
   "metadata": {
    "collapsed": false
   },
   "outputs": [],
   "source": [
    "def step(n=0, N=20):\n",
    "    if (n<=20 and n>0):\n",
    "        s = np.zeros((N,))\n",
    "        for idx_s in np.arange(n,N):\n",
    "            s[idx_s] = 1\n",
    "   \n",
    "    \n",
    "    return s"
   ]
  },
  {
   "cell_type": "code",
   "execution_count": 45,
   "metadata": {
    "collapsed": false
   },
   "outputs": [
    {
     "data": {
      "text/plain": [
       "<matplotlib.text.Text at 0x7f923da181d0>"
      ]
     },
     "execution_count": 45,
     "metadata": {},
     "output_type": "execute_result"
    },
    {
     "data": {
      "image/png": "[encoded data removed]",
      "text/plain": [
       "<matplotlib.figure.Figure at 0x7f923df1b990>"
      ]
     },
     "metadata": {},
     "output_type": "display_data"
    }
   ],
   "source": [
    "plt.stem(step(10))\n",
    "plt.xlabel(r'$n$')\n",
    "plt.ylabel(r'$P(k-n)$')\n",
    "plt.title('Step function')"
   ]
  },
  {
   "cell_type": "markdown",
   "metadata": {},
   "source": [
    "#### 1.3 Ramp function\n",
    "Considering the ramp function $P(k)$ corresponding to the equation below, write a function <tt>ramp</tt> to define a discrete signal of length $N$ and containing the values of the ramp function shifted at the position $n$ with a slope $a$, as $a.P(k-n)$. Verify inside the function that $n \\in [0,N-1]$ or that $a \\neq 0$ and raise an error if it is not the case.\n",
    "\n",
    "$P(k) = \\left\\{\n",
    "    \\begin{array}{lll}\n",
    "        k & \\mbox{if}  & k\\geq 0 \\\\\n",
    "        0 & & \\mbox{elsewhere}\n",
    "    \\end{array} \\right.$\n",
    "    \n",
    "By default $a$, $n$, and $N$ should be equal to $1$, $0$, and $20$, respectively. Plot the signal for $a=2$ and $n=10$ using the function <tt>stem</tt> and add labels and title."
   ]
  },
  {
   "cell_type": "code",
   "execution_count": 62,
   "metadata": {
    "collapsed": false
   },
   "outputs": [],
   "source": [
    "def ramp(a=1, n=0, N=20):\n",
    "    if (n<=20 and n>0):\n",
    "        s = np.zeros((N,))\n",
    "        for idx_s in np.arange(n,N):\n",
    "            s[idx_s] = 2\n",
    "   \n",
    "    \n",
    "    return s"
   ]
  },
  {
   "cell_type": "code",
   "execution_count": 63,
   "metadata": {
    "collapsed": false
   },
   "outputs": [
    {
     "data": {
      "text/plain": [
       "<matplotlib.text.Text at 0x7f923d024f10>"
      ]
     },
     "execution_count": 63,
     "metadata": {},
     "output_type": "execute_result"
    },
    {
     "data": {
      "image/png": "[encoded data removed]",
      "text/plain": [
       "<matplotlib.figure.Figure at 0x7f923d6b4110>"
      ]
     },
     "metadata": {},
     "output_type": "display_data"
    }
   ],
   "source": [
    "plt.stem(ramp(a=2,n=10))\n",
    "plt.xlabel(r'$n$')\n",
    "plt.ylabel(r'$a*P(k-n)$')\n",
    "plt.title('Ramp function')"
   ]
  },
  {
   "cell_type": "markdown",
   "metadata": {},
   "source": [
    "#### 1.4 Geometric function\n",
    "Considering the geometric function $G(k)$ corresponding to the equation below, write a function <tt>geo</tt> to define a discrete signal of length $N$ and containing the values of the geometric function shifted at the position $n$, as $G(k-n)$. Verify inside the function that $n \\in [0,N-1]$ and raise an error if it is not the case.\n",
    "\n",
    "$G(k) = \\left\\{\n",
    "    \\begin{array}{lll}\n",
    "        a^k & \\mbox{if}  & k\\geq 0 \\\\\n",
    "        0 & & \\mbox{elsewhere}\n",
    "    \\end{array} \\right. $\n",
    "    \n",
    "By default $a$, $n$, and $N$ should be equal to $2$, $0$, and $20$, respectively. Plot the signal for $a=2$ and $n=10$ using the function <tt>stem</tt> and add labels and title."
   ]
  },
  {
   "cell_type": "code",
   "execution_count": 70,
   "metadata": {
    "collapsed": true
   },
   "outputs": [],
   "source": [
    "def geo(a=2, n=0, N=20):\n",
    "    if (n<=20 and n>0):\n",
    "        s = np.zeros((N,))\n",
    "        for k,idx_s in enumerate(np.arange(n,N)) :\n",
    "            s[idx_s] = 2**k\n",
    "   \n",
    "    \n",
    "    return s"
   ]
  },
  {
   "cell_type": "code",
   "execution_count": 71,
   "metadata": {
    "collapsed": false
   },
   "outputs": [
    {
     "data": {
      "text/plain": [
       "<matplotlib.text.Text at 0x7f923d0f4510>"
      ]
     },
     "execution_count": 71,
     "metadata": {},
     "output_type": "execute_result"
    },
    {
     "data": {
      "image/png": "[encoded data removed]",
      "text/plain": [
       "<matplotlib.figure.Figure at 0x7f923cfd61d0>"
      ]
     },
     "metadata": {},
     "output_type": "display_data"
    }
   ],
   "source": [
    "plt.stem(geo(n=10))\n",
    "plt.xlabel(r'$n$')\n",
    "plt.ylabel(r'$G(k-n)$')\n",
    "plt.title('Geometric function')"
   ]
  },
  {
   "cell_type": "markdown",
   "metadata": {},
   "source": [
    "#### 1.5 Box function \n",
    "Considering the box function $B_a(k)$ corresponding to the equation below, write a function <tt>box</tt> to define a discrete signal of length $N$ and containing the values of the <tt>box</tt> function shifted at the position $n$ with a half-width $a$, as $B_a(k-n)$. Verify inside the function that $n \\in [a,N-a]$ and $a > 0$. If not, raise an error if it is not the case.\n",
    "\n",
    "$B_a(k) = \\left\\{\n",
    "    \\begin{array}{lll}\n",
    "        1 & \\mbox{if}  & -a \\leq k \\leq a \\\\\n",
    "        0 & & \\mbox{elsewhere}\n",
    "    \\end{array} \\right.  $\n",
    "    \n",
    "By default $a$, $n$, and $N$ should be equal to $1$, $10$, and $20$, respectively. Plot the signal for $a=3$ and $n=10$ using the function <tt>stem</tt> and add labels and title."
   ]
  },
  {
   "cell_type": "code",
   "execution_count": 82,
   "metadata": {
    "collapsed": true
   },
   "outputs": [],
   "source": [
    "def box(a=1, n=10, N=20):\n",
    "    if (n<=20 and n>0):\n",
    "        s = np.zeros((N,))\n",
    "        for idx_s in np.arange(n-a , n+a):\n",
    "            s[idx_s] = 1\n",
    "   \n",
    "    \n",
    "    return s"
   ]
  },
  {
   "cell_type": "code",
   "execution_count": 83,
   "metadata": {
    "collapsed": false
   },
   "outputs": [
    {
     "data": {
      "text/plain": [
       "<matplotlib.text.Text at 0x7f923d024d50>"
      ]
     },
     "execution_count": 83,
     "metadata": {},
     "output_type": "execute_result"
    },
    {
     "data": {
      "image/png": "[encoded data removed]",
      "text/plain": [
       "<matplotlib.figure.Figure at 0x7f923cdeb310>"
      ]
     },
     "metadata": {},
     "output_type": "display_data"
    }
   ],
   "source": [
    "plt.stem(box(a=3,n=10))\n",
    "plt.xlabel(r'$n$')\n",
    "plt.ylabel(r'$B(k-n)$')\n",
    "plt.title('Box function')"
   ]
  },
  {
   "cell_type": "markdown",
   "metadata": {},
   "source": [
    "#### 1.6 Discrete sine function\n",
    "Write a function <tt>sin_fn</tt> to define a discrete signal of length $N$ and containing the values of $\\sin(2\\pi f n T_s)$. The parameters are the frequency of the wave, the number of period, and the sampling frequency.\n",
    "\n",
    "Plot a single period signal with a frequency of 10 Hertz and a sampling frequency of 100 Hertz using the function <tt>stem</tt> and add labels and title."
   ]
  },
  {
   "cell_type": "code",
   "execution_count": 97,
   "metadata": {
    "collapsed": false
   },
   "outputs": [],
   "source": [
    "def sin_fn(f=10., fs=100., n_period=1.):\n",
    "   \n",
    "        \n",
    "    x = np.arange(0,1./ f * n_period, 1./fs)\n",
    "    s=np.sin(2.*np.pi*f*x)\n",
    "   \n",
    "    \n",
    "    return s"
   ]
  },
  {
   "cell_type": "code",
   "execution_count": 99,
   "metadata": {
    "collapsed": false
   },
   "outputs": [
    {
     "data": {
      "text/plain": [
       "<matplotlib.text.Text at 0x7f923cd9fd10>"
      ]
     },
     "execution_count": 99,
     "metadata": {},
     "output_type": "execute_result"
    },
    {
     "data": {
      "image/png": "[encoded data removed]",
      "text/plain": [
       "<matplotlib.figure.Figure at 0x7f923c9b7fd0>"
      ]
     },
     "metadata": {},
     "output_type": "display_data"
    }
   ],
   "source": [
    "plt.stem(sin_fn())\n",
    "plt.xlabel(r'$n$')\n",
    "plt.ylabel(r'$S()$')\n",
    "plt.title('Sin function')"
   ]
  },
  {
   "cell_type": "markdown",
   "metadata": {},
   "source": [
    "Repeat the plotting for a signal with a frequency of 10 Hertz and a sampling frequency of 1000 Hertz and 2 periods. "
   ]
  },
  {
   "cell_type": "code",
   "execution_count": 100,
   "metadata": {
    "collapsed": false
   },
   "outputs": [
    {
     "data": {
      "text/plain": [
       "<matplotlib.text.Text at 0x7f923c3e7d90>"
      ]
     },
     "execution_count": 100,
     "metadata": {},
     "output_type": "execute_result"
    },
    {
     "data": {
      "image/png": "[encoded data removed]",
      "text/plain": [
       "<matplotlib.figure.Figure at 0x7f923c63d950>"
      ]
     },
     "metadata": {},
     "output_type": "display_data"
    }
   ],
   "source": [
    "def sin_fn(f=10., fs=1000., n_period=2.):\n",
    "   \n",
    "        \n",
    "    x = np.arange(0,1./ f * n_period, 1./fs)\n",
    "    s=np.sin(2.*np.pi*f*x)\n",
    "   \n",
    "    \n",
    "    return s\n",
    "plt.stem(sin_fn())\n",
    "plt.xlabel(r'$n$')\n",
    "plt.ylabel(r'$S()$')\n",
    "plt.title('Sin function')"
   ]
  },
  {
   "cell_type": "markdown",
   "metadata": {},
   "source": [
    "Repeat the plotting for a signal with a frequency of 10 Hertz and a sampling frequency of 30 Hertz (per period) and 2 periods. "
   ]
  },
  {
   "cell_type": "code",
   "execution_count": 101,
   "metadata": {
    "collapsed": false
   },
   "outputs": [
    {
     "data": {
      "text/plain": [
       "<matplotlib.text.Text at 0x7f923bf2fbd0>"
      ]
     },
     "execution_count": 101,
     "metadata": {},
     "output_type": "execute_result"
    },
    {
     "data": {
      "image/png": "[encoded data removed]",
      "text/plain": [
       "<matplotlib.figure.Figure at 0x7f923bfb33d0>"
      ]
     },
     "metadata": {},
     "output_type": "display_data"
    }
   ],
   "source": [
    "def sin_fn(f=10., fs=30., n_period=2.):\n",
    "   \n",
    "        \n",
    "    x = np.arange(0,1./ f * n_period, 1./fs)\n",
    "    s=np.sin(2.*np.pi*f*x)\n",
    "   \n",
    "    \n",
    "    return s\n",
    "plt.stem(sin_fn())\n",
    "plt.xlabel(r'$n$')\n",
    "plt.ylabel(r'$S()$')\n",
    "plt.title('Sin function')"
   ]
  },
  {
   "cell_type": "markdown",
   "metadata": {},
   "source": [
    "What are the requirements while sampling such signal? Comments from your previous observations"
   ]
  },
  {
   "cell_type": "markdown",
   "metadata": {},
   "source": [
    "## Exercise 2"
   ]
  },
  {
   "cell_type": "markdown",
   "metadata": {},
   "source": [
    "#### 2.1 Gaussian Noise\n",
    "Generate an observation $x_n$ with 1000 of the normal/gaussian random process ${\\cal N}$.\n",
    "\n",
    "Plot the histogram of these data as well as the theoretical distribution."
   ]
  },
  {
   "cell_type": "code",
   "execution_count": 105,
   "metadata": {
    "collapsed": false
   },
   "outputs": [
    {
     "data": {
      "image/png": "[encoded data removed]",
      "text/plain": [
       "<matplotlib.figure.Figure at 0x7f923c9c3190>"
      ]
     },
     "metadata": {},
     "output_type": "display_data"
    }
   ],
   "source": [
    "# Define the mean and standard deviation\n",
    "mu=0.\n",
    "sigma = 1.\n",
    "N=1000\n",
    "sample_gaussian=np.random.normal(mu, sigma, (N, ))\n",
    "\n",
    "# Plot the histogram\n",
    "n, bins, patches = plt.hist(sample_gaussian, 50, normed=1, alpha=0.25)\n",
    "\n",
    "# Plot the distribution\n",
    "from scipy.stats import norm\n",
    "distri = norm.pdf(bins, mu, sigma)\n"
   ]
  },
  {
   "cell_type": "markdown",
   "metadata": {},
   "source": [
    "\n",
    "Increase the number of samples to 10000 and repeat the experiment. Discuss."
   ]
  },
  {
   "cell_type": "code",
   "execution_count": 106,
   "metadata": {
    "collapsed": false,
    "scrolled": true
   },
   "outputs": [
    {
     "data": {
      "image/png": "[encoded data removed]",
      "text/plain": [
       "<matplotlib.figure.Figure at 0x7f923ca9c150>"
      ]
     },
     "metadata": {},
     "output_type": "display_data"
    }
   ],
   "source": [
    "# Define the mean and standard deviation\n",
    "mu=0.\n",
    "sigma = 1.\n",
    "N=10000\n",
    "sample_gaussian=np.random.normal(mu, sigma, (N, ))\n",
    "\n",
    "# Plot the histogram\n",
    "n, bins, patches = plt.hist(sample_gaussian, 50, normed=1, alpha=0.25)\n",
    "\n",
    "# Plot the distribution\n",
    "from scipy.stats import norm\n",
    "distri = norm.pdf(bins, mu, sigma)\n",
    "\n"
   ]
  },
  {
   "cell_type": "markdown",
   "metadata": {},
   "source": [
    "#### 2.2 Uniform distribution\n",
    "Same question with the uniform law of the random process ${\\cal U}$ and an observation $x_u$."
   ]
  },
  {
   "cell_type": "code",
   "execution_count": 108,
   "metadata": {
    "collapsed": false
   },
   "outputs": [
    {
     "data": {
      "image/png": "[encoded data removed]",
      "text/plain": [
       "<matplotlib.figure.Figure at 0x7f923c520250>"
      ]
     },
     "metadata": {},
     "output_type": "display_data"
    }
   ],
   "source": [
    "# Define the number of samples to draw\n",
    "\n",
    "N=1000\n",
    "# Generate the data\n",
    "uniform_distribution=np.random.uniform(0,1,N)\n",
    "\n",
    "# Plot the histogram\n",
    "n, bins, patches = plt.hist(uniform_distribution, 50, alpha=0.25)"
   ]
  },
  {
   "cell_type": "markdown",
   "metadata": {},
   "source": [
    "#### 2.3 Autocorrelation\n",
    "Compute the autocorrelation of the two observations and plot them. Are these noises \"white\"? Conclusion?"
   ]
  },
  {
   "cell_type": "code",
   "execution_count": 8,
   "metadata": {
    "collapsed": false
   },
   "outputs": [],
   "source": [
    "# Compute the autocorrelation of Gaussian observations\n",
    "## np.correlate(...)"
   ]
  },
  {
   "cell_type": "markdown",
   "metadata": {},
   "source": [
    "Generate three binary random signals $s_1, s_2, s_3$ thanks to the instruction <tt>np.round(np.random.uniform(0, 1, 50))</tt>. Generate a whole signal $s$ containing these signals at different shifts. Compute the cross-correlation between the whole signals and $s_1, s_2, s_3$. Comment the results."
   ]
  },
  {
   "cell_type": "code",
   "execution_count": null,
   "metadata": {
    "collapsed": false
   },
   "outputs": [],
   "source": []
  },
  {
   "cell_type": "code",
   "execution_count": null,
   "metadata": {
    "collapsed": true
   },
   "outputs": [],
   "source": []
  }
 ],
 "metadata": {
  "anaconda-cloud": {},
  "kernelspec": {
   "display_name": "Python 2",
   "language": "python",
   "name": "python2"
  },
  "language_info": {
   "codemirror_mode": {
    "name": "ipython",
    "version": 2
   },
   "file_extension": ".py",
   "mimetype": "text/x-python",
   "name": "python",
   "nbconvert_exporter": "python",
   "pygments_lexer": "ipython2",
   "version": "2.7.10"
  }
 },
 "nbformat": 4,
 "nbformat_minor": 1
}
